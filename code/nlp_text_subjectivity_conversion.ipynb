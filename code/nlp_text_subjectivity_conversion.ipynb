{
  "nbformat": 4,
  "nbformat_minor": 0,
  "metadata": {
    "colab": {
      "name": "nlp-text-subjectivity-conversion.ipynb",
      "provenance": [],
      "collapsed_sections": [],
      "toc_visible": true
    },
    "kernelspec": {
      "name": "python3",
      "display_name": "Python 3"
    }
  },
  "cells": [
    {
      "cell_type": "markdown",
      "metadata": {
        "id": "9U1ZtPf4fIYe"
      },
      "source": [
        "#**ML-POWERED CONVERSION OF SUBJECTIVE TEXT TO OBJECTIVE TEXT**\n",
        "Kieran Mendoza, Wang Hengyue"
      ]
    },
    {
      "cell_type": "markdown",
      "metadata": {
        "id": "d5M-I24biNLP"
      },
      "source": [
        "## Introduction\n",
        "Often, the biases and the judgements of journalists get in the way of the facts and the truth. This project aims to first detect whether a piece of text is subjective or objective, then reframe it to eliminate the prejudices and be more factual. \n",
        "\n",
        "This project will include the development of a model that will detect the objectivity of the text input, and then will progress to transform it to  subjective text and vice-versa. We intend to use an [ Unsupervised Controllable Text Formalization to achieve this.](https://arxiv.org/abs/1809.04556) \n",
        "\n",
        "**Domain: Media, Literature**\n",
        "\n",
        "**Subject Area: Unsupervised Learning, Natural Language Processing**\n",
        "\n",
        "## Objectives\n",
        "* Detection of subjective or objective text\n",
        "* Manipulation of text from being subjective to objective and vice-versa.\n",
        "\n",
        "## Target Audience\n",
        "*   Fake news Detection agencies - a highly subjective article is likely to contain some fallacious statements\n",
        "*   Media companies - a quick method of turning an otherwise boring, dull chain of facts into a more engaging story\n",
        "*  English Teachers - aid for grading essays to determine if the student is writing subjectively or objectively\n",
        "\n",
        "## Target Outcome and Benefits\n",
        "1. Catering to the preference of different readers - some readers prefer the facts presented neatly and clearly while others may want more personal voice\n",
        "2. Formation of an engaging story from a “skeleton” of facts collected, allowing for a “quick story”.\n",
        "\n",
        "\n",
        "\n",
        "\n"
      ]
    },
    {
      "cell_type": "markdown",
      "metadata": {
        "id": "95zm6FKHj_h9"
      },
      "source": [
        "## Data Collection and Data Cleaning"
      ]
    },
    {
      "cell_type": "code",
      "metadata": {
        "id": "IbvYkNQqi8qd",
        "colab": {
          "base_uri": "https://localhost:8080/"
        },
        "outputId": "cebd342f-f829-41a8-b0cb-0247eaa73a89"
      },
      "source": [
        "!git clone https://github.com/Kimame04/nlp-text-subjectivity-conversion.git"
      ],
      "execution_count": null,
      "outputs": [
        {
          "output_type": "stream",
          "text": [
            "fatal: destination path 'nlp-text-subjectivity-conversion' already exists and is not an empty directory.\n"
          ],
          "name": "stdout"
        }
      ]
    },
    {
      "cell_type": "code",
      "metadata": {
        "id": "DqJbiuZHwbWK"
      },
      "source": [
        "#imports\n",
        "import os\n",
        "import pandas as pd\n",
        "import matplotlib.pyplot as plt\n",
        "import time\n",
        "import nltk\n",
        "from nltk.corpus import stopwords\n",
        "from nltk.stem import WordNetLemmatizer\n",
        "from sklearn.feature_extraction.text import TfidfVectorizer\n",
        "from sklearn.model_selection import train_test_split"
      ],
      "execution_count": null,
      "outputs": []
    },
    {
      "cell_type": "code",
      "metadata": {
        "colab": {
          "base_uri": "https://localhost:8080/"
        },
        "id": "3faa93zyVkOo",
        "outputId": "49f3d256-3be2-48c1-8d03-6c8a2004a866"
      },
      "source": [
        "nltk.download('punkt')\n",
        "nltk.download('wordnet')\n",
        "nltk.download('stopwords')"
      ],
      "execution_count": null,
      "outputs": [
        {
          "output_type": "stream",
          "text": [
            "[nltk_data] Downloading package punkt to /root/nltk_data...\n",
            "[nltk_data]   Package punkt is already up-to-date!\n",
            "[nltk_data] Downloading package wordnet to /root/nltk_data...\n",
            "[nltk_data]   Package wordnet is already up-to-date!\n",
            "[nltk_data] Downloading package stopwords to /root/nltk_data...\n",
            "[nltk_data]   Unzipping corpora/stopwords.zip.\n"
          ],
          "name": "stdout"
        },
        {
          "output_type": "execute_result",
          "data": {
            "text/plain": [
              "True"
            ]
          },
          "metadata": {
            "tags": []
          },
          "execution_count": 42
        }
      ]
    },
    {
      "cell_type": "markdown",
      "metadata": {
        "id": "lvP61zKF3Ebv"
      },
      "source": [
        "Annoyingly, plenty of the data has custom file extensions, which means that they must first be converted to their original file extensions (.txt) before any operations can be conducted on it.\n",
        "\n",
        "In the end, I combined the reviews of each reviewer into a dataframe, which is then combined into a 'complete collection' dataset, for further analysis.\n",
        "\n",
        "Each dataframe has the following attributes:\n",
        "\n",
        "- Review content\n",
        "- Rating \n",
        "- ID \n",
        "- Three-class label\n",
        "- Four-class label"
      ]
    },
    {
      "cell_type": "code",
      "metadata": {
        "id": "mRSzHpGwjjBf"
      },
      "source": [
        "path = '/content/nlp-text-subjectivity-conversion/data'\n",
        "\n",
        "def readTxt(fileName):\n",
        "  fileObj = open(fileName,'r',encoding=\"windows-1252\")\n",
        "  words = fileObj.read().splitlines()\n",
        "  fileObj.close()\n",
        "  return words\n",
        "\n",
        "all_series = []\n",
        "\n",
        "for folder in os.listdir(path):\n",
        "  subpath = path+'/'+folder\n",
        "  if os.path.isdir(subpath):\n",
        "    temp = []\n",
        "    for filename in os.listdir(subpath):\n",
        "      filepath = os.path.join(subpath,filename)\n",
        "      if (filepath.count('.txt')<1):\n",
        "        new_filepath = filepath+'.txt'\n",
        "        os.rename(filepath,new_filepath)\n",
        "      elif (filepath.count('README')<1):\n",
        "        series = pd.Series(readTxt(filepath))\n",
        "        series.name = filename\n",
        "        temp.append(series)\n",
        "    all_series.append(temp)\n"
      ],
      "execution_count": null,
      "outputs": []
    },
    {
      "cell_type": "code",
      "metadata": {
        "id": "8N465fcTHFst",
        "colab": {
          "base_uri": "https://localhost:8080/",
          "height": 609
        },
        "outputId": "7d33a15e-4c27-4836-d2f4-7b9b8e7c87dc"
      },
      "source": [
        "dataframes=[]\n",
        "for series in all_series:\n",
        "  temp = pd.concat(series,axis=1)\n",
        "  dataframes.append(temp.sort_index(axis=1))\n",
        "dataframes[1]"
      ],
      "execution_count": null,
      "outputs": [
        {
          "output_type": "execute_result",
          "data": {
            "text/html": [
              "<div>\n",
              "<style scoped>\n",
              "    .dataframe tbody tr th:only-of-type {\n",
              "        vertical-align: middle;\n",
              "    }\n",
              "\n",
              "    .dataframe tbody tr th {\n",
              "        vertical-align: top;\n",
              "    }\n",
              "\n",
              "    .dataframe thead th {\n",
              "        text-align: right;\n",
              "    }\n",
              "</style>\n",
              "<table border=\"1\" class=\"dataframe\">\n",
              "  <thead>\n",
              "    <tr style=\"text-align: right;\">\n",
              "      <th></th>\n",
              "      <th>id.Scott+Renshaw.txt</th>\n",
              "      <th>label.3class.Scott+Renshaw.txt</th>\n",
              "      <th>label.4class.Scott+Renshaw.txt</th>\n",
              "      <th>rating.Scott+Renshaw.txt</th>\n",
              "      <th>subj.Scott+Renshaw.txt</th>\n",
              "    </tr>\n",
              "  </thead>\n",
              "  <tbody>\n",
              "    <tr>\n",
              "      <th>0</th>\n",
              "      <td>11961</td>\n",
              "      <td>0</td>\n",
              "      <td>0</td>\n",
              "      <td>0</td>\n",
              "      <td>i'm guessing -- and from the available evidenc...</td>\n",
              "    </tr>\n",
              "    <tr>\n",
              "      <th>1</th>\n",
              "      <td>13915</td>\n",
              "      <td>0</td>\n",
              "      <td>0</td>\n",
              "      <td>0</td>\n",
              "      <td>there's bad buzz , and then there's the the ba...</td>\n",
              "    </tr>\n",
              "    <tr>\n",
              "      <th>2</th>\n",
              "      <td>2790</td>\n",
              "      <td>0</td>\n",
              "      <td>0</td>\n",
              "      <td>0</td>\n",
              "      <td>director : richard rush . director richard rus...</td>\n",
              "    </tr>\n",
              "    <tr>\n",
              "      <th>3</th>\n",
              "      <td>3285</td>\n",
              "      <td>0</td>\n",
              "      <td>0</td>\n",
              "      <td>0</td>\n",
              "      <td>screenplay : johnny brennan &amp; kamal ahmed and ...</td>\n",
              "    </tr>\n",
              "    <tr>\n",
              "      <th>4</th>\n",
              "      <td>10264</td>\n",
              "      <td>0</td>\n",
              "      <td>0</td>\n",
              "      <td>0.1</td>\n",
              "      <td>screenplay : tim burns &amp; tom stern and anthony...</td>\n",
              "    </tr>\n",
              "    <tr>\n",
              "      <th>...</th>\n",
              "      <td>...</td>\n",
              "      <td>...</td>\n",
              "      <td>...</td>\n",
              "      <td>...</td>\n",
              "      <td>...</td>\n",
              "    </tr>\n",
              "    <tr>\n",
              "      <th>897</th>\n",
              "      <td>5754</td>\n",
              "      <td>2</td>\n",
              "      <td>3</td>\n",
              "      <td>1</td>\n",
              "      <td>screenplay : nicholas kazan , robin swicord . ...</td>\n",
              "    </tr>\n",
              "    <tr>\n",
              "      <th>898</th>\n",
              "      <td>6072</td>\n",
              "      <td>2</td>\n",
              "      <td>3</td>\n",
              "      <td>1</td>\n",
              "      <td>screenplay : stanley tucci , joseph tropiano ....</td>\n",
              "    </tr>\n",
              "    <tr>\n",
              "      <th>899</th>\n",
              "      <td>6371</td>\n",
              "      <td>2</td>\n",
              "      <td>3</td>\n",
              "      <td>1</td>\n",
              "      <td>it is the kind of situation you might have see...</td>\n",
              "    </tr>\n",
              "    <tr>\n",
              "      <th>900</th>\n",
              "      <td>6892</td>\n",
              "      <td>2</td>\n",
              "      <td>3</td>\n",
              "      <td>1</td>\n",
              "      <td>billy bob thornton has presented me with a won...</td>\n",
              "    </tr>\n",
              "    <tr>\n",
              "      <th>901</th>\n",
              "      <td>8645</td>\n",
              "      <td>2</td>\n",
              "      <td>3</td>\n",
              "      <td>1</td>\n",
              "      <td>the two main characters in neil labute's in th...</td>\n",
              "    </tr>\n",
              "  </tbody>\n",
              "</table>\n",
              "<p>902 rows × 5 columns</p>\n",
              "</div>"
            ],
            "text/plain": [
              "    id.Scott+Renshaw.txt  ...                             subj.Scott+Renshaw.txt\n",
              "0                  11961  ...  i'm guessing -- and from the available evidenc...\n",
              "1                  13915  ...  there's bad buzz , and then there's the the ba...\n",
              "2                   2790  ...  director : richard rush . director richard rus...\n",
              "3                   3285  ...  screenplay : johnny brennan & kamal ahmed and ...\n",
              "4                  10264  ...  screenplay : tim burns & tom stern and anthony...\n",
              "..                   ...  ...                                                ...\n",
              "897                 5754  ...  screenplay : nicholas kazan , robin swicord . ...\n",
              "898                 6072  ...  screenplay : stanley tucci , joseph tropiano ....\n",
              "899                 6371  ...  it is the kind of situation you might have see...\n",
              "900                 6892  ...  billy bob thornton has presented me with a won...\n",
              "901                 8645  ...  the two main characters in neil labute's in th...\n",
              "\n",
              "[902 rows x 5 columns]"
            ]
          },
          "metadata": {
            "tags": []
          },
          "execution_count": 4
        }
      ]
    },
    {
      "cell_type": "code",
      "metadata": {
        "colab": {
          "base_uri": "https://localhost:8080/",
          "height": 419
        },
        "id": "HQa5W3BaUtXr",
        "outputId": "c3af5c52-ed26-4c21-8822-eca65e7b036e"
      },
      "source": [
        "df = dataframes[0].iloc[:,1:].copy()\n",
        "punctuation_lines = list(\"?.:;,!\")\n",
        "for punct_sign in punctuation_signs:\n",
        "    df = df.str.replace(punct_sign, '')\n",
        "    \n",
        "df = df.str.replace(\"'s\",\"\")\n",
        "wordnet_lemmatizer = WordNetLemmatizer()\n",
        "stop_words = list(stopwords.words('english'))\n",
        "\n",
        "for stop_word in stop_words:\n",
        "    regex_stopword = r\"\\b\" + stop_word + r\"\\b\"\n",
        "    df = df.str.replace(regex_stopword, '')"
      ],
      "execution_count": null,
      "outputs": [
        {
          "output_type": "execute_result",
          "data": {
            "text/html": [
              "<div>\n",
              "<style scoped>\n",
              "    .dataframe tbody tr th:only-of-type {\n",
              "        vertical-align: middle;\n",
              "    }\n",
              "\n",
              "    .dataframe tbody tr th {\n",
              "        vertical-align: top;\n",
              "    }\n",
              "\n",
              "    .dataframe thead th {\n",
              "        text-align: right;\n",
              "    }\n",
              "</style>\n",
              "<table border=\"1\" class=\"dataframe\">\n",
              "  <thead>\n",
              "    <tr style=\"text-align: right;\">\n",
              "      <th></th>\n",
              "      <th>rt-polarity.neg.txt</th>\n",
              "      <th>rt-polarity.pos.txt</th>\n",
              "    </tr>\n",
              "  </thead>\n",
              "  <tbody>\n",
              "    <tr>\n",
              "      <th>0</th>\n",
              "      <td>simplistic , silly and tedious .</td>\n",
              "      <td>the rock is destined to be the 21st century's ...</td>\n",
              "    </tr>\n",
              "    <tr>\n",
              "      <th>1</th>\n",
              "      <td>it's so laddish and juvenile , only teenage bo...</td>\n",
              "      <td>the gorgeously elaborate continuation of \" the...</td>\n",
              "    </tr>\n",
              "    <tr>\n",
              "      <th>2</th>\n",
              "      <td>exploitative and largely devoid of the depth o...</td>\n",
              "      <td>effective but too-tepid biopic</td>\n",
              "    </tr>\n",
              "    <tr>\n",
              "      <th>3</th>\n",
              "      <td>[garbus] discards the potential for pathologic...</td>\n",
              "      <td>if you sometimes like to go to the movies to h...</td>\n",
              "    </tr>\n",
              "    <tr>\n",
              "      <th>4</th>\n",
              "      <td>a visually flashy but narratively opaque and e...</td>\n",
              "      <td>emerges as something rare , an issue movie tha...</td>\n",
              "    </tr>\n",
              "    <tr>\n",
              "      <th>...</th>\n",
              "      <td>...</td>\n",
              "      <td>...</td>\n",
              "    </tr>\n",
              "    <tr>\n",
              "      <th>5326</th>\n",
              "      <td>a terrible movie that some people will neverth...</td>\n",
              "      <td>both exuberantly romantic and serenely melanch...</td>\n",
              "    </tr>\n",
              "    <tr>\n",
              "      <th>5327</th>\n",
              "      <td>there are many definitions of 'time waster' bu...</td>\n",
              "      <td>mazel tov to a film about a family's joyous li...</td>\n",
              "    </tr>\n",
              "    <tr>\n",
              "      <th>5328</th>\n",
              "      <td>as it stands , crocodile hunter has the hurrie...</td>\n",
              "      <td>standing in the shadows of motown is the best ...</td>\n",
              "    </tr>\n",
              "    <tr>\n",
              "      <th>5329</th>\n",
              "      <td>the thing looks like a made-for-home-video qui...</td>\n",
              "      <td>it's nice to see piscopo again after all these...</td>\n",
              "    </tr>\n",
              "    <tr>\n",
              "      <th>5330</th>\n",
              "      <td>enigma is well-made , but it's just too dry an...</td>\n",
              "      <td>provides a porthole into that noble , tremblin...</td>\n",
              "    </tr>\n",
              "  </tbody>\n",
              "</table>\n",
              "<p>5331 rows × 2 columns</p>\n",
              "</div>"
            ],
            "text/plain": [
              "                                    rt-polarity.neg.txt                                rt-polarity.pos.txt\n",
              "0                     simplistic , silly and tedious .   the rock is destined to be the 21st century's ...\n",
              "1     it's so laddish and juvenile , only teenage bo...  the gorgeously elaborate continuation of \" the...\n",
              "2     exploitative and largely devoid of the depth o...                     effective but too-tepid biopic\n",
              "3     [garbus] discards the potential for pathologic...  if you sometimes like to go to the movies to h...\n",
              "4     a visually flashy but narratively opaque and e...  emerges as something rare , an issue movie tha...\n",
              "...                                                 ...                                                ...\n",
              "5326  a terrible movie that some people will neverth...  both exuberantly romantic and serenely melanch...\n",
              "5327  there are many definitions of 'time waster' bu...  mazel tov to a film about a family's joyous li...\n",
              "5328  as it stands , crocodile hunter has the hurrie...  standing in the shadows of motown is the best ...\n",
              "5329  the thing looks like a made-for-home-video qui...  it's nice to see piscopo again after all these...\n",
              "5330  enigma is well-made , but it's just too dry an...  provides a porthole into that noble , tremblin...\n",
              "\n",
              "[5331 rows x 2 columns]"
            ]
          },
          "metadata": {
            "tags": []
          },
          "execution_count": 39
        }
      ]
    },
    {
      "cell_type": "markdown",
      "metadata": {
        "id": "jFVU14wd5IqV"
      },
      "source": [
        "## Detection of Subjectivity in Text\n",
        "\n",
        "We use two methods to train a supervised learning algorithm, using sentiment (continuous) and polarity (discrete)."
      ]
    },
    {
      "cell_type": "code",
      "metadata": {
        "colab": {
          "base_uri": "https://localhost:8080/",
          "height": 419
        },
        "id": "xR60FUqJ5ua7",
        "outputId": "7a545e83-a8dd-4896-a852-83fdac3e9647"
      },
      "source": [
        "polarityDf = dataframes[0].copy().iloc[:,1:]\n",
        "polarityDf = pd.DataFrame(pd.concat((polarityDf.iloc[:,0],polarityDf.iloc[:,1]),axis=0)).reset_index(drop=True)\n",
        "polarityDf.columns = ['desc']\n",
        "polarityDf['subjectivity'] = 'negative'\n",
        "polarityDf['subjectivity'][5331:] = 'positive'\n",
        "polarityDf"
      ],
      "execution_count": null,
      "outputs": [
        {
          "output_type": "execute_result",
          "data": {
            "text/html": [
              "<div>\n",
              "<style scoped>\n",
              "    .dataframe tbody tr th:only-of-type {\n",
              "        vertical-align: middle;\n",
              "    }\n",
              "\n",
              "    .dataframe tbody tr th {\n",
              "        vertical-align: top;\n",
              "    }\n",
              "\n",
              "    .dataframe thead th {\n",
              "        text-align: right;\n",
              "    }\n",
              "</style>\n",
              "<table border=\"1\" class=\"dataframe\">\n",
              "  <thead>\n",
              "    <tr style=\"text-align: right;\">\n",
              "      <th></th>\n",
              "      <th>desc</th>\n",
              "      <th>subjectivity</th>\n",
              "    </tr>\n",
              "  </thead>\n",
              "  <tbody>\n",
              "    <tr>\n",
              "      <th>0</th>\n",
              "      <td>simplistic , silly and tedious .</td>\n",
              "      <td>neg</td>\n",
              "    </tr>\n",
              "    <tr>\n",
              "      <th>1</th>\n",
              "      <td>it's so laddish and juvenile , only teenage bo...</td>\n",
              "      <td>neg</td>\n",
              "    </tr>\n",
              "    <tr>\n",
              "      <th>2</th>\n",
              "      <td>exploitative and largely devoid of the depth o...</td>\n",
              "      <td>neg</td>\n",
              "    </tr>\n",
              "    <tr>\n",
              "      <th>3</th>\n",
              "      <td>[garbus] discards the potential for pathologic...</td>\n",
              "      <td>neg</td>\n",
              "    </tr>\n",
              "    <tr>\n",
              "      <th>4</th>\n",
              "      <td>a visually flashy but narratively opaque and e...</td>\n",
              "      <td>neg</td>\n",
              "    </tr>\n",
              "    <tr>\n",
              "      <th>...</th>\n",
              "      <td>...</td>\n",
              "      <td>...</td>\n",
              "    </tr>\n",
              "    <tr>\n",
              "      <th>10657</th>\n",
              "      <td>both exuberantly romantic and serenely melanch...</td>\n",
              "      <td>pos</td>\n",
              "    </tr>\n",
              "    <tr>\n",
              "      <th>10658</th>\n",
              "      <td>mazel tov to a film about a family's joyous li...</td>\n",
              "      <td>pos</td>\n",
              "    </tr>\n",
              "    <tr>\n",
              "      <th>10659</th>\n",
              "      <td>standing in the shadows of motown is the best ...</td>\n",
              "      <td>pos</td>\n",
              "    </tr>\n",
              "    <tr>\n",
              "      <th>10660</th>\n",
              "      <td>it's nice to see piscopo again after all these...</td>\n",
              "      <td>pos</td>\n",
              "    </tr>\n",
              "    <tr>\n",
              "      <th>10661</th>\n",
              "      <td>provides a porthole into that noble , tremblin...</td>\n",
              "      <td>pos</td>\n",
              "    </tr>\n",
              "  </tbody>\n",
              "</table>\n",
              "<p>10662 rows × 2 columns</p>\n",
              "</div>"
            ],
            "text/plain": [
              "                                                    desc subjectivity\n",
              "0                      simplistic , silly and tedious .           neg\n",
              "1      it's so laddish and juvenile , only teenage bo...          neg\n",
              "2      exploitative and largely devoid of the depth o...          neg\n",
              "3      [garbus] discards the potential for pathologic...          neg\n",
              "4      a visually flashy but narratively opaque and e...          neg\n",
              "...                                                  ...          ...\n",
              "10657  both exuberantly romantic and serenely melanch...          pos\n",
              "10658  mazel tov to a film about a family's joyous li...          pos\n",
              "10659  standing in the shadows of motown is the best ...          pos\n",
              "10660  it's nice to see piscopo again after all these...          pos\n",
              "10661  provides a porthole into that noble , tremblin...          pos\n",
              "\n",
              "[10662 rows x 2 columns]"
            ]
          },
          "metadata": {
            "tags": []
          },
          "execution_count": 38
        }
      ]
    },
    {
      "cell_type": "markdown",
      "metadata": {
        "id": "Xi7VFmG4yRNR"
      },
      "source": [
        "## NLP "
      ]
    },
    {
      "cell_type": "code",
      "metadata": {
        "id": "OzktSy6yLgW9"
      },
      "source": [
        ""
      ],
      "execution_count": null,
      "outputs": []
    },
    {
      "cell_type": "markdown",
      "metadata": {
        "id": "hRShMHN2zQYq"
      },
      "source": [
        "## Resources\n",
        "\n",
        "**Papers**\n",
        "\n",
        "https://ojs.aaai.org/index.php/AAAI/article/view/6433\n",
        "\n",
        "https://arxiv.org/abs/1809.04556\n",
        "\n",
        "**Basis of our text formalisation**\n",
        "\n",
        "https://github.com/parajain/uctf\n",
        "\n",
        "**Dataset** \n",
        "\n",
        "http://www.cs.cornell.edu/people/pabo/movie-review-data/"
      ]
    }
  ]
}